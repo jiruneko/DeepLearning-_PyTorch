{
  "nbformat": 4,
  "nbformat_minor": 0,
  "metadata": {
    "colab": {
      "provenance": [],
      "authorship_tag": "ABX9TyNEdob2+mEMINMEusc1x/bH",
      "include_colab_link": true
    },
    "kernelspec": {
      "name": "python3",
      "display_name": "Python 3"
    },
    "language_info": {
      "name": "python"
    }
  },
  "cells": [
    {
      "cell_type": "markdown",
      "metadata": {
        "id": "view-in-github",
        "colab_type": "text"
      },
      "source": [
        "<a href=\"https://colab.research.google.com/github/jiruneko/DeepLearning-_PyTorch/blob/main/PyTorch_basic.ipynb\" target=\"_parent\"><img src=\"https://colab.research.google.com/assets/colab-badge.svg\" alt=\"Open In Colab\"/></a>"
      ]
    },
    {
      "cell_type": "code",
      "execution_count": 7,
      "metadata": {
        "id": "4IYAeQTu18YD",
        "colab": {
          "base_uri": "https://localhost:8080/"
        },
        "outputId": "8563e9f0-28b6-49e0-eb23-ad23ca5ea04f"
      },
      "outputs": [
        {
          "output_type": "execute_result",
          "data": {
            "text/plain": [
              "array([0.36787944, 2.71828183, 7.3890561 ])"
            ]
          },
          "metadata": {},
          "execution_count": 7
        }
      ],
      "source": [
        "import numpy as np\n",
        "\n",
        "u = np.array([-1, 1, 2])\n",
        "\n",
        "exp_u = np.exp(u)\n",
        "exp_u"
      ]
    },
    {
      "cell_type": "code",
      "source": [
        "exp_u.sum()"
      ],
      "metadata": {
        "colab": {
          "base_uri": "https://localhost:8080/"
        },
        "id": "pSbOHdJZ2vb7",
        "outputId": "dcea78f7-09f7-482b-e301-8deb4ab025bf"
      },
      "execution_count": 8,
      "outputs": [
        {
          "output_type": "execute_result",
          "data": {
            "text/plain": [
              "10.475217368561138"
            ]
          },
          "metadata": {},
          "execution_count": 8
        }
      ]
    },
    {
      "cell_type": "code",
      "source": [
        "a = exp_u / exp_u.sum()\n",
        "a"
      ],
      "metadata": {
        "colab": {
          "base_uri": "https://localhost:8080/"
        },
        "id": "LuEkuEzu3Fwj",
        "outputId": "d9c2c829-ab2f-4834-ebf9-7c899ca9de8f"
      },
      "execution_count": 9,
      "outputs": [
        {
          "output_type": "execute_result",
          "data": {
            "text/plain": [
              "array([0.03511903, 0.25949646, 0.70538451])"
            ]
          },
          "metadata": {},
          "execution_count": 9
        }
      ]
    },
    {
      "cell_type": "code",
      "source": [
        "a.sum()"
      ],
      "metadata": {
        "colab": {
          "base_uri": "https://localhost:8080/"
        },
        "id": "SXic-Pb23TiC",
        "outputId": "09a37762-b8dc-404f-bde9-52d7afd2dee6"
      },
      "execution_count": 10,
      "outputs": [
        {
          "output_type": "execute_result",
          "data": {
            "text/plain": [
              "1.0"
            ]
          },
          "metadata": {},
          "execution_count": 10
        }
      ]
    },
    {
      "cell_type": "code",
      "source": [
        "import torch"
      ],
      "metadata": {
        "id": "2KvjQHaU3iJF"
      },
      "execution_count": 11,
      "outputs": []
    },
    {
      "cell_type": "code",
      "source": [
        "torch.__version__"
      ],
      "metadata": {
        "colab": {
          "base_uri": "https://localhost:8080/",
          "height": 35
        },
        "id": "XhiC4K1UH-P5",
        "outputId": "d7aa5c13-86b1-44a4-96ea-2da3968f7e6e"
      },
      "execution_count": 12,
      "outputs": [
        {
          "output_type": "execute_result",
          "data": {
            "text/plain": [
              "'2.1.0+cu121'"
            ],
            "application/vnd.google.colaboratory.intrinsic+json": {
              "type": "string"
            }
          },
          "metadata": {},
          "execution_count": 12
        }
      ]
    },
    {
      "cell_type": "code",
      "source": [
        "import torch.nn as nn\n",
        "fc = nn.Linear(3, 2)\n",
        "fc.weight"
      ],
      "metadata": {
        "colab": {
          "base_uri": "https://localhost:8080/"
        },
        "id": "Pko3sYKyIB-L",
        "outputId": "d7408703-bd59-4157-fdbb-6deb6392081d"
      },
      "execution_count": 13,
      "outputs": [
        {
          "output_type": "execute_result",
          "data": {
            "text/plain": [
              "Parameter containing:\n",
              "tensor([[-0.1337,  0.3818, -0.2857],\n",
              "        [ 0.0458,  0.0295, -0.1999]], requires_grad=True)"
            ]
          },
          "metadata": {},
          "execution_count": 13
        }
      ]
    },
    {
      "cell_type": "code",
      "source": [
        "fc.bias"
      ],
      "metadata": {
        "colab": {
          "base_uri": "https://localhost:8080/"
        },
        "id": "Xynts0ZzJOfY",
        "outputId": "b4c1a52b-f65e-4565-ba18-98a60cca5d2c"
      },
      "execution_count": 14,
      "outputs": [
        {
          "output_type": "execute_result",
          "data": {
            "text/plain": [
              "Parameter containing:\n",
              "tensor([-0.4007, -0.5208], requires_grad=True)"
            ]
          },
          "metadata": {},
          "execution_count": 14
        }
      ]
    },
    {
      "cell_type": "code",
      "source": [
        "torch.manual_seed(1)"
      ],
      "metadata": {
        "colab": {
          "base_uri": "https://localhost:8080/"
        },
        "id": "nJbXsg2gJb_E",
        "outputId": "c6bc1403-8217-4b55-faf2-3eee92003562"
      },
      "execution_count": 15,
      "outputs": [
        {
          "output_type": "execute_result",
          "data": {
            "text/plain": [
              "<torch._C.Generator at 0x7dc56c9a1c50>"
            ]
          },
          "metadata": {},
          "execution_count": 15
        }
      ]
    },
    {
      "cell_type": "code",
      "source": [
        "fc = nn.Linear(3, 2)\n",
        "\n",
        "fc.weight"
      ],
      "metadata": {
        "colab": {
          "base_uri": "https://localhost:8080/"
        },
        "id": "HLXVBk2FJqgu",
        "outputId": "c30f7938-51ad-4ff6-93fc-65e3bdf81492"
      },
      "execution_count": 16,
      "outputs": [
        {
          "output_type": "execute_result",
          "data": {
            "text/plain": [
              "Parameter containing:\n",
              "tensor([[ 0.2975, -0.2548, -0.1119],\n",
              "        [ 0.2710, -0.5435,  0.3462]], requires_grad=True)"
            ]
          },
          "metadata": {},
          "execution_count": 16
        }
      ]
    },
    {
      "cell_type": "code",
      "source": [
        "fc.bias"
      ],
      "metadata": {
        "colab": {
          "base_uri": "https://localhost:8080/"
        },
        "id": "ovfmfmL8KbmQ",
        "outputId": "8a2099e1-e30d-47b8-c3a9-3da8cfa4336a"
      },
      "execution_count": 17,
      "outputs": [
        {
          "output_type": "execute_result",
          "data": {
            "text/plain": [
              "Parameter containing:\n",
              "tensor([-0.1188,  0.2937], requires_grad=True)"
            ]
          },
          "metadata": {},
          "execution_count": 17
        }
      ]
    },
    {
      "cell_type": "code",
      "source": [
        "x = torch.tensor([[1, 2, 3]], dtype=torch.float32)\n",
        "x"
      ],
      "metadata": {
        "colab": {
          "base_uri": "https://localhost:8080/"
        },
        "id": "IDQwIXu5KeyL",
        "outputId": "4f8e7a61-0ad7-448c-ea73-4589cf3a25d3"
      },
      "execution_count": 18,
      "outputs": [
        {
          "output_type": "execute_result",
          "data": {
            "text/plain": [
              "tensor([[1., 2., 3.]])"
            ]
          },
          "metadata": {},
          "execution_count": 18
        }
      ]
    },
    {
      "cell_type": "code",
      "source": [
        "x.type"
      ],
      "metadata": {
        "colab": {
          "base_uri": "https://localhost:8080/"
        },
        "id": "GVpZcqPVKo6J",
        "outputId": "d83b852a-906f-4603-aa0f-60fce709d7e6"
      },
      "execution_count": 19,
      "outputs": [
        {
          "output_type": "execute_result",
          "data": {
            "text/plain": [
              "<function Tensor.type>"
            ]
          },
          "metadata": {},
          "execution_count": 19
        }
      ]
    },
    {
      "cell_type": "code",
      "source": [
        "u = fc(x)\n",
        "u"
      ],
      "metadata": {
        "colab": {
          "base_uri": "https://localhost:8080/"
        },
        "id": "q6q6Z9_jKsLj",
        "outputId": "848c3e65-6d4b-4bcc-92f1-3046f29195cb"
      },
      "execution_count": 20,
      "outputs": [
        {
          "output_type": "execute_result",
          "data": {
            "text/plain": [
              "tensor([[-0.6667,  0.5164]], grad_fn=<AddmmBackward0>)"
            ]
          },
          "metadata": {},
          "execution_count": 20
        }
      ]
    },
    {
      "cell_type": "code",
      "source": [
        "import torch.nn.functional as F\n",
        "\n",
        "#ReLU関数\n",
        "h = F.relu(u)\n",
        "h"
      ],
      "metadata": {
        "colab": {
          "base_uri": "https://localhost:8080/"
        },
        "id": "JDVKSF86Ku1d",
        "outputId": "8064c445-d07c-4a47-830f-a7c0a7062649"
      },
      "execution_count": 21,
      "outputs": [
        {
          "output_type": "execute_result",
          "data": {
            "text/plain": [
              "tensor([[0.0000, 0.5164]], grad_fn=<ReluBackward0>)"
            ]
          },
          "metadata": {},
          "execution_count": 21
        }
      ]
    },
    {
      "cell_type": "code",
      "source": [
        "# 乱数のシードを固定\n",
        "torch.manual_seed(1)\n",
        "\n",
        "# 入力値の定義\n",
        "x = torch.tensor([[1, 2, 3]], dtype=torch.float32)\n",
        "x"
      ],
      "metadata": {
        "id": "lNDWTE9HL537",
        "colab": {
          "base_uri": "https://localhost:8080/"
        },
        "outputId": "3007e055-dc9f-4f7b-f088-84e6b65f89c1"
      },
      "execution_count": 22,
      "outputs": [
        {
          "output_type": "execute_result",
          "data": {
            "text/plain": [
              "tensor([[1., 2., 3.]])"
            ]
          },
          "metadata": {},
          "execution_count": 22
        }
      ]
    },
    {
      "cell_type": "code",
      "source": [
        "fc1 = nn.Linear(3, 2)\n",
        "fc2 = nn.Linear(2, 1)\n",
        "\n",
        "u1 = fc1(x)\n",
        "u1"
      ],
      "metadata": {
        "colab": {
          "base_uri": "https://localhost:8080/"
        },
        "id": "WLsrmM3lpMn9",
        "outputId": "724065bb-7055-4a01-db75-a49553f5f9fe"
      },
      "execution_count": 23,
      "outputs": [
        {
          "output_type": "execute_result",
          "data": {
            "text/plain": [
              "tensor([[-0.6667,  0.5164]], grad_fn=<AddmmBackward0>)"
            ]
          },
          "metadata": {},
          "execution_count": 23
        }
      ]
    },
    {
      "cell_type": "code",
      "source": [
        "h1 = F.relu(u1)\n",
        "\n",
        "y = fc2(h1)\n",
        "y"
      ],
      "metadata": {
        "colab": {
          "base_uri": "https://localhost:8080/"
        },
        "id": "JBSFcm7rpmPn",
        "outputId": "1effccb9-3568-4e9e-99ef-54c6dbd9e72e"
      },
      "execution_count": 24,
      "outputs": [
        {
          "output_type": "execute_result",
          "data": {
            "text/plain": [
              "tensor([[0.1514]], grad_fn=<AddmmBackward0>)"
            ]
          },
          "metadata": {},
          "execution_count": 24
        }
      ]
    },
    {
      "cell_type": "code",
      "source": [
        "t = torch.tensor([[1]], dtype=torch.float32)\n",
        "t"
      ],
      "metadata": {
        "colab": {
          "base_uri": "https://localhost:8080/"
        },
        "id": "Tf2-fg-lpyh1",
        "outputId": "459589d6-0c45-4bb3-d51b-ff2ef973cd3c"
      },
      "execution_count": 25,
      "outputs": [
        {
          "output_type": "execute_result",
          "data": {
            "text/plain": [
              "tensor([[1.]])"
            ]
          },
          "metadata": {},
          "execution_count": 25
        }
      ]
    },
    {
      "cell_type": "code",
      "source": [
        "loss = F.mse_loss(t, y)\n",
        "loss"
      ],
      "metadata": {
        "colab": {
          "base_uri": "https://localhost:8080/"
        },
        "id": "NFHnRdTxqciR",
        "outputId": "e586f158-1a78-4b2e-a20b-234b900df467"
      },
      "execution_count": 26,
      "outputs": [
        {
          "output_type": "execute_result",
          "data": {
            "text/plain": [
              "tensor(0.7201, grad_fn=<MseLossBackward0>)"
            ]
          },
          "metadata": {},
          "execution_count": 26
        }
      ]
    },
    {
      "cell_type": "code",
      "source": [
        "from sklearn.datasets import load_iris\n",
        "\n",
        "# Irisデータセットの読み込み\n",
        "x, t = load_iris(return_X_y=True)\n",
        "\n",
        "# サイズの確認\n",
        "x.shape, t.shape"
      ],
      "metadata": {
        "colab": {
          "base_uri": "https://localhost:8080/"
        },
        "id": "lfwZ45CT0RF_",
        "outputId": "89fd9ffd-a24f-46e4-d482-c0507aeeacee"
      },
      "execution_count": 27,
      "outputs": [
        {
          "output_type": "execute_result",
          "data": {
            "text/plain": [
              "((150, 4), (150,))"
            ]
          },
          "metadata": {},
          "execution_count": 27
        }
      ]
    },
    {
      "cell_type": "code",
      "source": [
        "# 型の確認\n",
        "type(x), type(t)"
      ],
      "metadata": {
        "colab": {
          "base_uri": "https://localhost:8080/"
        },
        "id": "o_A8iZIj1A3l",
        "outputId": "95a475cf-04a1-4a91-b74a-c9be4a365334"
      },
      "execution_count": 28,
      "outputs": [
        {
          "output_type": "execute_result",
          "data": {
            "text/plain": [
              "(numpy.ndarray, numpy.ndarray)"
            ]
          },
          "metadata": {},
          "execution_count": 28
        }
      ]
    },
    {
      "cell_type": "code",
      "source": [
        "# データ型の確認\n",
        "x.dtype, t.dtype"
      ],
      "metadata": {
        "colab": {
          "base_uri": "https://localhost:8080/"
        },
        "id": "82P9ccig1Nhn",
        "outputId": "20c5e74a-9928-465c-b954-2d4aaaa09bef"
      },
      "execution_count": 29,
      "outputs": [
        {
          "output_type": "execute_result",
          "data": {
            "text/plain": [
              "(dtype('float64'), dtype('int64'))"
            ]
          },
          "metadata": {},
          "execution_count": 29
        }
      ]
    },
    {
      "cell_type": "code",
      "source": [
        "x = torch.tensor(x, dtype=torch.float32)\n",
        "t = torch.tensor(t, dtype=torch.int64)\n",
        "\n",
        "type(x), type(t)"
      ],
      "metadata": {
        "colab": {
          "base_uri": "https://localhost:8080/"
        },
        "id": "onSLW5_9qteo",
        "outputId": "6954b161-a083-497d-d940-b44371e21a72"
      },
      "execution_count": 30,
      "outputs": [
        {
          "output_type": "execute_result",
          "data": {
            "text/plain": [
              "(torch.Tensor, torch.Tensor)"
            ]
          },
          "metadata": {},
          "execution_count": 30
        }
      ]
    },
    {
      "cell_type": "code",
      "source": [
        "x.dtype, t.dtype"
      ],
      "metadata": {
        "colab": {
          "base_uri": "https://localhost:8080/"
        },
        "id": "uXemBCYo1hlz",
        "outputId": "2cdf50f5-e578-43bc-8083-a35645c7f61f"
      },
      "execution_count": 31,
      "outputs": [
        {
          "output_type": "execute_result",
          "data": {
            "text/plain": [
              "(torch.float32, torch.int64)"
            ]
          },
          "metadata": {},
          "execution_count": 31
        }
      ]
    },
    {
      "cell_type": "code",
      "source": [
        "from torch.utils.data import TensorDataset\n",
        "\n",
        "# 入力値と目標値をまとめて、１つのオブジェクトdatasetに変換\n",
        "dataset = TensorDataset(x, t)\n",
        "dataset"
      ],
      "metadata": {
        "colab": {
          "base_uri": "https://localhost:8080/"
        },
        "id": "k1Si6KsYvYDa",
        "outputId": "f86bbffa-cfe7-482c-dab2-59e5915677ed"
      },
      "execution_count": 32,
      "outputs": [
        {
          "output_type": "execute_result",
          "data": {
            "text/plain": [
              "<torch.utils.data.dataset.TensorDataset at 0x7dc4b83604f0>"
            ]
          },
          "metadata": {},
          "execution_count": 32
        }
      ]
    },
    {
      "cell_type": "code",
      "source": [
        "type(dataset)"
      ],
      "metadata": {
        "colab": {
          "base_uri": "https://localhost:8080/"
        },
        "id": "GnCRHnAQv8aM",
        "outputId": "3f3d37a8-4d3e-4c9c-8ab2-4358cb5fa166"
      },
      "execution_count": 33,
      "outputs": [
        {
          "output_type": "execute_result",
          "data": {
            "text/plain": [
              "torch.utils.data.dataset.TensorDataset"
            ]
          },
          "metadata": {},
          "execution_count": 33
        }
      ]
    },
    {
      "cell_type": "code",
      "source": [
        "dataset[0]"
      ],
      "metadata": {
        "colab": {
          "base_uri": "https://localhost:8080/"
        },
        "id": "OGADU2dDxSxV",
        "outputId": "5f9df39b-c9b1-47e3-8781-ab5a8f48f079"
      },
      "execution_count": 34,
      "outputs": [
        {
          "output_type": "execute_result",
          "data": {
            "text/plain": [
              "(tensor([5.1000, 3.5000, 1.4000, 0.2000]), tensor(0))"
            ]
          },
          "metadata": {},
          "execution_count": 34
        }
      ]
    },
    {
      "cell_type": "code",
      "source": [
        "type(dataset[0])"
      ],
      "metadata": {
        "colab": {
          "base_uri": "https://localhost:8080/"
        },
        "id": "btRX4GH3xU_0",
        "outputId": "62238d6a-7429-41bc-b013-878c7ce185c9"
      },
      "execution_count": 35,
      "outputs": [
        {
          "output_type": "execute_result",
          "data": {
            "text/plain": [
              "tuple"
            ]
          },
          "metadata": {},
          "execution_count": 35
        }
      ]
    },
    {
      "cell_type": "code",
      "source": [
        "# １サンプル目の入力値\n",
        "dataset[0][0]"
      ],
      "metadata": {
        "colab": {
          "base_uri": "https://localhost:8080/"
        },
        "id": "FAWDuGQmyNlV",
        "outputId": "ad89eb81-9e28-47c3-d3cd-07cd81be8168"
      },
      "execution_count": 36,
      "outputs": [
        {
          "output_type": "execute_result",
          "data": {
            "text/plain": [
              "tensor([5.1000, 3.5000, 1.4000, 0.2000])"
            ]
          },
          "metadata": {},
          "execution_count": 36
        }
      ]
    },
    {
      "cell_type": "code",
      "source": [
        "# １サンプル目の目標値\n",
        "dataset[0][1]"
      ],
      "metadata": {
        "colab": {
          "base_uri": "https://localhost:8080/"
        },
        "id": "uEk6jLIF3uCE",
        "outputId": "423f64e9-af67-40b3-feda-2e6221031656"
      },
      "execution_count": 37,
      "outputs": [
        {
          "output_type": "execute_result",
          "data": {
            "text/plain": [
              "tensor(0)"
            ]
          },
          "metadata": {},
          "execution_count": 37
        }
      ]
    },
    {
      "cell_type": "code",
      "source": [
        "# サンプル数はlenで取得可能\n",
        "len(dataset)"
      ],
      "metadata": {
        "colab": {
          "base_uri": "https://localhost:8080/"
        },
        "id": "RtuqmMwI31GM",
        "outputId": "92230a39-adb0-4bf9-8c25-c8704fbca776"
      },
      "execution_count": 38,
      "outputs": [
        {
          "output_type": "execute_result",
          "data": {
            "text/plain": [
              "150"
            ]
          },
          "metadata": {},
          "execution_count": 38
        }
      ]
    },
    {
      "cell_type": "code",
      "source": [
        "# 各データセットのサンプル数を決定\n",
        "# train : val: test = 60% : 20% : 20%\n",
        "n_train = int(len(dataset) * 0.6)\n",
        "n_val = int(len(dataset) * 0.2)\n",
        "n_test = len(dataset) - n_train - n_val\n",
        "\n",
        "# それぞれのサンプル数を確認\n",
        "n_train, n_val, n_test"
      ],
      "metadata": {
        "colab": {
          "base_uri": "https://localhost:8080/"
        },
        "id": "x70oUhac37cV",
        "outputId": "62d70b93-950f-42b2-f42d-3bc8840b0493"
      },
      "execution_count": 39,
      "outputs": [
        {
          "output_type": "execute_result",
          "data": {
            "text/plain": [
              "(90, 30, 30)"
            ]
          },
          "metadata": {},
          "execution_count": 39
        }
      ]
    },
    {
      "cell_type": "code",
      "source": [
        "from torch.utils.data import random_split\n",
        "\n",
        "#  ランダムに分割を行うため、シードを固定して再現性を確保\n",
        "torch.manual_seed(0)\n",
        "\n",
        "#  データセットの分割\n",
        "train, val, test = random_split(dataset, [n_train, n_val, n_test])\n",
        "\n",
        "#　サンプル数の確認\n",
        "len(train), len(val), len(test)"
      ],
      "metadata": {
        "colab": {
          "base_uri": "https://localhost:8080/"
        },
        "id": "etmsCU4W8ANU",
        "outputId": "7b7134df-6e30-4ed3-ce9a-ea1b00674e5d"
      },
      "execution_count": 40,
      "outputs": [
        {
          "output_type": "execute_result",
          "data": {
            "text/plain": [
              "(90, 30, 30)"
            ]
          },
          "metadata": {},
          "execution_count": 40
        }
      ]
    },
    {
      "cell_type": "code",
      "source": [
        "batch_size = 10\n",
        "\n",
        "from torch.utils.data import DataLoader\n",
        "\n",
        "#  shuffleはデフォルトでFalseのため、学習データのみTrueに指定\n",
        "train_loader = DataLoader(train, batch_size, shuffle=True)\n",
        "val_loader = DataLoader(val, batch_size)\n",
        "test_loader = DataLoader(test, batch_size)"
      ],
      "metadata": {
        "id": "K431DBDj-PiW"
      },
      "execution_count": 41,
      "outputs": []
    },
    {
      "cell_type": "code",
      "source": [
        "class Net(nn.Module):\n",
        "\n",
        "  # 使用するオブジェクトを定義\n",
        "  def __init__(self):\n",
        "    super(Net, self).__init__()\n",
        "    self.fc1 = nn.Linear(4, 4)\n",
        "    self.fc2 = nn.Linear(4, 3)\n",
        "\n",
        "  # 準電波\n",
        "  def forward(self, x):\n",
        "    x = self.fc1(x)\n",
        "    x = F.relu(x)\n",
        "    x = self.fc2(x)\n",
        "    return x"
      ],
      "metadata": {
        "id": "y8cka82w_8Ls"
      },
      "execution_count": 42,
      "outputs": []
    },
    {
      "cell_type": "code",
      "source": [
        "# 乱数のシードを固定して再現性を確保\n",
        "torch.manual_seed(0)\n",
        "\n",
        "# インスタンス化\n",
        "net = Net()\n",
        "\n",
        "# ネットワークの確認\n",
        "net"
      ],
      "metadata": {
        "colab": {
          "base_uri": "https://localhost:8080/"
        },
        "id": "ibMrxnVcBh_0",
        "outputId": "4f22c136-c4bc-4460-c279-b5478a81fb2e"
      },
      "execution_count": 43,
      "outputs": [
        {
          "output_type": "execute_result",
          "data": {
            "text/plain": [
              "Net(\n",
              "  (fc1): Linear(in_features=4, out_features=4, bias=True)\n",
              "  (fc2): Linear(in_features=4, out_features=3, bias=True)\n",
              ")"
            ]
          },
          "metadata": {},
          "execution_count": 43
        }
      ]
    },
    {
      "cell_type": "code",
      "source": [
        "criterion = nn.CrossEntropyLoss()\n",
        "criterion"
      ],
      "metadata": {
        "colab": {
          "base_uri": "https://localhost:8080/"
        },
        "id": "xamK9Vg8B3Yr",
        "outputId": "da1cde5e-0de6-49e7-c977-adab4162df44"
      },
      "execution_count": 44,
      "outputs": [
        {
          "output_type": "execute_result",
          "data": {
            "text/plain": [
              "CrossEntropyLoss()"
            ]
          },
          "metadata": {},
          "execution_count": 44
        }
      ]
    },
    {
      "cell_type": "code",
      "source": [
        "optimizer = torch.optim.SGD(net.parameters(), lr=0.1)\n",
        "optimizer"
      ],
      "metadata": {
        "colab": {
          "base_uri": "https://localhost:8080/"
        },
        "id": "ljgoW23iF-i8",
        "outputId": "684c72d8-bc38-4717-9f0a-538a7299b500"
      },
      "execution_count": 45,
      "outputs": [
        {
          "output_type": "execute_result",
          "data": {
            "text/plain": [
              "SGD (\n",
              "Parameter Group 0\n",
              "    dampening: 0\n",
              "    differentiable: False\n",
              "    foreach: None\n",
              "    lr: 0.1\n",
              "    maximize: False\n",
              "    momentum: 0\n",
              "    nesterov: False\n",
              "    weight_decay: 0\n",
              ")"
            ]
          },
          "metadata": {},
          "execution_count": 45
        }
      ]
    },
    {
      "cell_type": "code",
      "source": [
        "# バッチサイズ分のサンプルの抽出\n",
        "batch = next(iter(train_loader))\n",
        "batch"
      ],
      "metadata": {
        "colab": {
          "base_uri": "https://localhost:8080/"
        },
        "id": "WYF0hWrpGZLn",
        "outputId": "ef7cffac-db05-431d-e9e4-ea78f9cef515"
      },
      "execution_count": 46,
      "outputs": [
        {
          "output_type": "execute_result",
          "data": {
            "text/plain": [
              "[tensor([[5.4000, 3.9000, 1.7000, 0.4000],\n",
              "         [4.6000, 3.6000, 1.0000, 0.2000],\n",
              "         [6.5000, 3.0000, 5.5000, 1.8000],\n",
              "         [6.9000, 3.1000, 5.4000, 2.1000],\n",
              "         [6.3000, 2.5000, 4.9000, 1.5000],\n",
              "         [7.1000, 3.0000, 5.9000, 2.1000],\n",
              "         [5.8000, 2.7000, 4.1000, 1.0000],\n",
              "         [7.0000, 3.2000, 4.7000, 1.4000],\n",
              "         [6.7000, 3.0000, 5.0000, 1.7000],\n",
              "         [7.2000, 3.6000, 6.1000, 2.5000]]),\n",
              " tensor([0, 0, 2, 2, 1, 2, 1, 1, 1, 2])]"
            ]
          },
          "metadata": {},
          "execution_count": 46
        }
      ]
    },
    {
      "cell_type": "code",
      "source": [
        "x, t  = batch\n",
        "x"
      ],
      "metadata": {
        "colab": {
          "base_uri": "https://localhost:8080/"
        },
        "id": "xCDWhtK6G2G8",
        "outputId": "cbfdcba5-a3c1-4a9b-ce16-4a195dd64cb4"
      },
      "execution_count": 47,
      "outputs": [
        {
          "output_type": "execute_result",
          "data": {
            "text/plain": [
              "tensor([[5.4000, 3.9000, 1.7000, 0.4000],\n",
              "        [4.6000, 3.6000, 1.0000, 0.2000],\n",
              "        [6.5000, 3.0000, 5.5000, 1.8000],\n",
              "        [6.9000, 3.1000, 5.4000, 2.1000],\n",
              "        [6.3000, 2.5000, 4.9000, 1.5000],\n",
              "        [7.1000, 3.0000, 5.9000, 2.1000],\n",
              "        [5.8000, 2.7000, 4.1000, 1.0000],\n",
              "        [7.0000, 3.2000, 4.7000, 1.4000],\n",
              "        [6.7000, 3.0000, 5.0000, 1.7000],\n",
              "        [7.2000, 3.6000, 6.1000, 2.5000]])"
            ]
          },
          "metadata": {},
          "execution_count": 47
        }
      ]
    },
    {
      "cell_type": "code",
      "source": [
        "t"
      ],
      "metadata": {
        "colab": {
          "base_uri": "https://localhost:8080/"
        },
        "id": "TaXasJkhHCG9",
        "outputId": "543a2726-71fb-4747-93d6-2e438fe460bd"
      },
      "execution_count": 48,
      "outputs": [
        {
          "output_type": "execute_result",
          "data": {
            "text/plain": [
              "tensor([0, 0, 2, 2, 1, 2, 1, 1, 1, 2])"
            ]
          },
          "metadata": {},
          "execution_count": 48
        }
      ]
    },
    {
      "cell_type": "code",
      "source": [
        "# 全結合層fc1の重み\n",
        "net.fc1.weight"
      ],
      "metadata": {
        "colab": {
          "base_uri": "https://localhost:8080/"
        },
        "id": "7b3F31bUHWgU",
        "outputId": "eeb5de5b-41de-4e12-bb04-efcbb9530b10"
      },
      "execution_count": 49,
      "outputs": [
        {
          "output_type": "execute_result",
          "data": {
            "text/plain": [
              "Parameter containing:\n",
              "tensor([[-0.0037,  0.2682, -0.4115, -0.3680],\n",
              "        [-0.1926,  0.1341, -0.0099,  0.3964],\n",
              "        [-0.0444,  0.1323, -0.1511, -0.0983],\n",
              "        [-0.4777, -0.3311, -0.2061,  0.0185]], requires_grad=True)"
            ]
          },
          "metadata": {},
          "execution_count": 49
        }
      ]
    },
    {
      "cell_type": "code",
      "source": [
        "# 全結合層fc1のバイアス\n",
        "net.fc1.bias"
      ],
      "metadata": {
        "colab": {
          "base_uri": "https://localhost:8080/"
        },
        "id": "nCn5EqUmH-lI",
        "outputId": "aec6652c-40ad-485e-cad2-67216024f0bc"
      },
      "execution_count": 50,
      "outputs": [
        {
          "output_type": "execute_result",
          "data": {
            "text/plain": [
              "Parameter containing:\n",
              "tensor([ 0.1977,  0.3000, -0.3390, -0.2177], requires_grad=True)"
            ]
          },
          "metadata": {},
          "execution_count": 50
        }
      ]
    },
    {
      "cell_type": "code",
      "source": [
        "# 全結合層fc2の重み\n",
        "net.fc2.weight"
      ],
      "metadata": {
        "colab": {
          "base_uri": "https://localhost:8080/"
        },
        "id": "rVIVFJ2TIJ6w",
        "outputId": "fa3159da-9b71-4723-ad90-cc4c64886282"
      },
      "execution_count": 51,
      "outputs": [
        {
          "output_type": "execute_result",
          "data": {
            "text/plain": [
              "Parameter containing:\n",
              "tensor([[ 0.1816,  0.4152, -0.1029,  0.3742],\n",
              "        [-0.0806,  0.0529,  0.4527, -0.4638],\n",
              "        [-0.3148, -0.1266, -0.1949,  0.4320]], requires_grad=True)"
            ]
          },
          "metadata": {},
          "execution_count": 51
        }
      ]
    },
    {
      "cell_type": "code",
      "source": [
        "y = net.forward(x)\n",
        "y"
      ],
      "metadata": {
        "colab": {
          "base_uri": "https://localhost:8080/"
        },
        "id": "O6UoVC8cIe0Z",
        "outputId": "ad57af40-29e7-4ea2-87f3-2d320bd68df0"
      },
      "execution_count": 52,
      "outputs": [
        {
          "output_type": "execute_result",
          "data": {
            "text/plain": [
              "tensor([[-0.2557, -0.2605, -0.4679],\n",
              "        [-0.2041, -0.2834, -0.5574],\n",
              "        [-0.2786, -0.2244, -0.3632],\n",
              "        [-0.2552, -0.2214, -0.3703],\n",
              "        [-0.3241, -0.2302, -0.3493],\n",
              "        [-0.2788, -0.2244, -0.3631],\n",
              "        [-0.3241, -0.2302, -0.3493],\n",
              "        [-0.3241, -0.2302, -0.3493],\n",
              "        [-0.3090, -0.2282, -0.3539],\n",
              "        [-0.1884, -0.2129, -0.3907]], grad_fn=<AddmmBackward0>)"
            ]
          },
          "metadata": {},
          "execution_count": 52
        }
      ]
    },
    {
      "cell_type": "code",
      "source": [
        "y = net(x)\n",
        "y"
      ],
      "metadata": {
        "colab": {
          "base_uri": "https://localhost:8080/"
        },
        "id": "Azcp39IuIsaA",
        "outputId": "43d3ba36-0f00-47fe-c100-8aa18b6e17a9"
      },
      "execution_count": 53,
      "outputs": [
        {
          "output_type": "execute_result",
          "data": {
            "text/plain": [
              "tensor([[-0.2557, -0.2605, -0.4679],\n",
              "        [-0.2041, -0.2834, -0.5574],\n",
              "        [-0.2786, -0.2244, -0.3632],\n",
              "        [-0.2552, -0.2214, -0.3703],\n",
              "        [-0.3241, -0.2302, -0.3493],\n",
              "        [-0.2788, -0.2244, -0.3631],\n",
              "        [-0.3241, -0.2302, -0.3493],\n",
              "        [-0.3241, -0.2302, -0.3493],\n",
              "        [-0.3090, -0.2282, -0.3539],\n",
              "        [-0.1884, -0.2129, -0.3907]], grad_fn=<AddmmBackward0>)"
            ]
          },
          "metadata": {},
          "execution_count": 53
        }
      ]
    },
    {
      "cell_type": "code",
      "source": [
        "loss = criterion(y, t)\n",
        "loss"
      ],
      "metadata": {
        "colab": {
          "base_uri": "https://localhost:8080/"
        },
        "id": "5lKfxKUmJCo9",
        "outputId": "6c03f588-e041-4ae6-d974-397393a5e40f"
      },
      "execution_count": 54,
      "outputs": [
        {
          "output_type": "execute_result",
          "data": {
            "text/plain": [
              "tensor(1.0882, grad_fn=<NllLossBackward0>)"
            ]
          },
          "metadata": {},
          "execution_count": 54
        }
      ]
    },
    {
      "cell_type": "code",
      "source": [
        "net.fc1.weight.grad\n",
        "\n",
        "net.fc1.bias.grad\n",
        "\n",
        "net.fc2.weight.grad\n",
        "\n",
        "net.fc2.bias.grad"
      ],
      "metadata": {
        "id": "jka2IltBJSLS"
      },
      "execution_count": 55,
      "outputs": []
    },
    {
      "cell_type": "code",
      "source": [
        "loss.backward()"
      ],
      "metadata": {
        "id": "BErDnPRlJkYk"
      },
      "execution_count": 56,
      "outputs": []
    },
    {
      "cell_type": "code",
      "source": [
        "net.fc1.weight.grad"
      ],
      "metadata": {
        "colab": {
          "base_uri": "https://localhost:8080/"
        },
        "id": "hTBIj6TXJsJg",
        "outputId": "01966c8d-d21b-42e8-ade7-cca14262646e"
      },
      "execution_count": 57,
      "outputs": [
        {
          "output_type": "execute_result",
          "data": {
            "text/plain": [
              "tensor([[-0.2311, -0.1731, -0.0627, -0.0139],\n",
              "        [ 0.7327,  0.3358,  0.6025,  0.2229],\n",
              "        [ 0.0000,  0.0000,  0.0000,  0.0000],\n",
              "        [ 0.0000,  0.0000,  0.0000,  0.0000]])"
            ]
          },
          "metadata": {},
          "execution_count": 57
        }
      ]
    },
    {
      "cell_type": "code",
      "source": [
        "net.fc1.bias.grad"
      ],
      "metadata": {
        "colab": {
          "base_uri": "https://localhost:8080/"
        },
        "id": "0xhHfiXnJyyW",
        "outputId": "59bae0dc-9a8b-45e7-b67d-d294a27c05b8"
      },
      "execution_count": 58,
      "outputs": [
        {
          "output_type": "execute_result",
          "data": {
            "text/plain": [
              "tensor([-0.0461,  0.1060,  0.0000,  0.0000])"
            ]
          },
          "metadata": {},
          "execution_count": 58
        }
      ]
    },
    {
      "cell_type": "code",
      "source": [
        "net.fc2.weight.grad"
      ],
      "metadata": {
        "colab": {
          "base_uri": "https://localhost:8080/"
        },
        "id": "2I1wTh3hJ52Z",
        "outputId": "c1bc2795-ee89-4dce-8fae-4c90c7bcdbc3"
      },
      "execution_count": 59,
      "outputs": [
        {
          "output_type": "execute_result",
          "data": {
            "text/plain": [
              "tensor([[-0.0652,  0.0259,  0.0000,  0.0000],\n",
              "        [ 0.0366,  0.0227,  0.0000,  0.0000],\n",
              "        [ 0.0285, -0.0486,  0.0000,  0.0000]])"
            ]
          },
          "metadata": {},
          "execution_count": 59
        }
      ]
    },
    {
      "cell_type": "code",
      "source": [
        "net.fc2.bias.grad"
      ],
      "metadata": {
        "id": "zM_H0h_uKJR7",
        "outputId": "934bc47e-5d28-4063-e57b-cdedcf84ab03",
        "colab": {
          "base_uri": "https://localhost:8080/"
        }
      },
      "execution_count": 60,
      "outputs": [
        {
          "output_type": "execute_result",
          "data": {
            "text/plain": [
              "tensor([ 0.1415, -0.0452, -0.0963])"
            ]
          },
          "metadata": {},
          "execution_count": 60
        }
      ]
    },
    {
      "cell_type": "code",
      "source": [
        "optimizer.step()"
      ],
      "metadata": {
        "id": "OYDt2PwYKNEw"
      },
      "execution_count": 61,
      "outputs": []
    },
    {
      "cell_type": "code",
      "source": [
        "net.fc1.weight"
      ],
      "metadata": {
        "colab": {
          "base_uri": "https://localhost:8080/"
        },
        "id": "xhDGBruJpr05",
        "outputId": "7879bed1-6db2-4a9b-fc79-8d1cf9d2643f"
      },
      "execution_count": 62,
      "outputs": [
        {
          "output_type": "execute_result",
          "data": {
            "text/plain": [
              "Parameter containing:\n",
              "tensor([[ 0.0194,  0.2855, -0.4053, -0.3666],\n",
              "        [-0.2659,  0.1005, -0.0702,  0.3742],\n",
              "        [-0.0444,  0.1323, -0.1511, -0.0983],\n",
              "        [-0.4777, -0.3311, -0.2061,  0.0185]], requires_grad=True)"
            ]
          },
          "metadata": {},
          "execution_count": 62
        }
      ]
    },
    {
      "cell_type": "code",
      "source": [
        "net.fc1.bias"
      ],
      "metadata": {
        "colab": {
          "base_uri": "https://localhost:8080/"
        },
        "id": "v8sMHvrrqKhz",
        "outputId": "ac4a5c3a-486a-4c2d-dc91-5c163ac5ed1e"
      },
      "execution_count": 63,
      "outputs": [
        {
          "output_type": "execute_result",
          "data": {
            "text/plain": [
              "Parameter containing:\n",
              "tensor([ 0.2023,  0.2894, -0.3390, -0.2177], requires_grad=True)"
            ]
          },
          "metadata": {},
          "execution_count": 63
        }
      ]
    },
    {
      "cell_type": "code",
      "source": [
        "net.fc2.weight"
      ],
      "metadata": {
        "colab": {
          "base_uri": "https://localhost:8080/"
        },
        "id": "cOS6FqIMqXiL",
        "outputId": "115d59da-b35f-4bf4-d04e-43d1ec004ed6"
      },
      "execution_count": 64,
      "outputs": [
        {
          "output_type": "execute_result",
          "data": {
            "text/plain": [
              "Parameter containing:\n",
              "tensor([[ 0.1881,  0.4126, -0.1029,  0.3742],\n",
              "        [-0.0843,  0.0506,  0.4527, -0.4638],\n",
              "        [-0.3176, -0.1217, -0.1949,  0.4320]], requires_grad=True)"
            ]
          },
          "metadata": {},
          "execution_count": 64
        }
      ]
    },
    {
      "cell_type": "code",
      "source": [
        "net.fc2.bias"
      ],
      "metadata": {
        "colab": {
          "base_uri": "https://localhost:8080/"
        },
        "id": "FbwzJmqrqupR",
        "outputId": "508bd421-7c4b-4560-ce50-ac8d5219acfe"
      },
      "execution_count": 65,
      "outputs": [
        {
          "output_type": "execute_result",
          "data": {
            "text/plain": [
              "Parameter containing:\n",
              "tensor([-0.3382, -0.2256, -0.3397], requires_grad=True)"
            ]
          },
          "metadata": {},
          "execution_count": 65
        }
      ]
    },
    {
      "cell_type": "code",
      "source": [
        "torch.cuda.is_available()"
      ],
      "metadata": {
        "colab": {
          "base_uri": "https://localhost:8080/"
        },
        "id": "222euFykq6UB",
        "outputId": "3a232cc0-54e8-4b9c-f1d0-88004f886dce"
      },
      "execution_count": 66,
      "outputs": [
        {
          "output_type": "execute_result",
          "data": {
            "text/plain": [
              "False"
            ]
          },
          "metadata": {},
          "execution_count": 66
        }
      ]
    },
    {
      "cell_type": "code",
      "source": [
        "device = torch.device('cuda:0' if torch.cuda.is_available() else 'cpu')\n",
        "device"
      ],
      "metadata": {
        "colab": {
          "base_uri": "https://localhost:8080/"
        },
        "id": "4dW_-SohrnG7",
        "outputId": "723696c6-d5dd-4905-b0c9-363e938197c5"
      },
      "execution_count": 67,
      "outputs": [
        {
          "output_type": "execute_result",
          "data": {
            "text/plain": [
              "device(type='cpu')"
            ]
          },
          "metadata": {},
          "execution_count": 67
        }
      ]
    },
    {
      "cell_type": "code",
      "source": [
        "net.to(device)"
      ],
      "metadata": {
        "colab": {
          "base_uri": "https://localhost:8080/"
        },
        "id": "ZkAMmtY7r9gZ",
        "outputId": "7a823fc3-15e2-43f9-9574-02465f2f3a4f"
      },
      "execution_count": 68,
      "outputs": [
        {
          "output_type": "execute_result",
          "data": {
            "text/plain": [
              "Net(\n",
              "  (fc1): Linear(in_features=4, out_features=4, bias=True)\n",
              "  (fc2): Linear(in_features=4, out_features=3, bias=True)\n",
              ")"
            ]
          },
          "metadata": {},
          "execution_count": 68
        }
      ]
    },
    {
      "cell_type": "code",
      "source": [
        "x = x.to(device)\n",
        "x"
      ],
      "metadata": {
        "colab": {
          "base_uri": "https://localhost:8080/"
        },
        "id": "xYEQXPV0sRzZ",
        "outputId": "2fda3a28-5c7b-4968-9d92-d067c44e688a"
      },
      "execution_count": 69,
      "outputs": [
        {
          "output_type": "execute_result",
          "data": {
            "text/plain": [
              "tensor([[5.4000, 3.9000, 1.7000, 0.4000],\n",
              "        [4.6000, 3.6000, 1.0000, 0.2000],\n",
              "        [6.5000, 3.0000, 5.5000, 1.8000],\n",
              "        [6.9000, 3.1000, 5.4000, 2.1000],\n",
              "        [6.3000, 2.5000, 4.9000, 1.5000],\n",
              "        [7.1000, 3.0000, 5.9000, 2.1000],\n",
              "        [5.8000, 2.7000, 4.1000, 1.0000],\n",
              "        [7.0000, 3.2000, 4.7000, 1.4000],\n",
              "        [6.7000, 3.0000, 5.0000, 1.7000],\n",
              "        [7.2000, 3.6000, 6.1000, 2.5000]])"
            ]
          },
          "metadata": {},
          "execution_count": 69
        }
      ]
    },
    {
      "cell_type": "code",
      "source": [
        "t = t.to(device)\n",
        "t"
      ],
      "metadata": {
        "colab": {
          "base_uri": "https://localhost:8080/"
        },
        "id": "aHi_eWTKsZqm",
        "outputId": "55492cd1-64e4-4ebc-a604-b4e41d04f195"
      },
      "execution_count": 70,
      "outputs": [
        {
          "output_type": "execute_result",
          "data": {
            "text/plain": [
              "tensor([0, 0, 2, 2, 1, 2, 1, 1, 1, 2])"
            ]
          },
          "metadata": {},
          "execution_count": 70
        }
      ]
    },
    {
      "cell_type": "code",
      "source": [
        "optimizer.zero_grad()"
      ],
      "metadata": {
        "id": "6l4_fDYMsrpJ"
      },
      "execution_count": 71,
      "outputs": []
    },
    {
      "cell_type": "code",
      "source": [
        "net.fc1.weight.grad"
      ],
      "metadata": {
        "id": "SnEHRreWs2zy"
      },
      "execution_count": 72,
      "outputs": []
    },
    {
      "cell_type": "code",
      "source": [
        "net.fc1.bias.grad"
      ],
      "metadata": {
        "id": "Nt3IgKPCs6Xb"
      },
      "execution_count": 73,
      "outputs": []
    },
    {
      "cell_type": "code",
      "source": [
        "max_epoch = 1\n",
        "\n",
        "torch.manual_seed(0)\n",
        "\n",
        "net = Net().to(device)\n",
        "\n",
        "optimizer = torch.optim.SGD(net.parameters(), lr=0.1)\n",
        "\n",
        "for epoch in range(max_epoch):\n",
        "\n",
        "  for batch in train_loader:\n",
        "\n",
        "    x, t = batch\n",
        "\n",
        "    x = x.to(device)\n",
        "    t = t.to(device)\n",
        "\n",
        "    optimizer.zero_grad()\n",
        "\n",
        "    y = net(x)\n",
        "\n",
        "    loss = criterion(y, t)\n",
        "\n",
        "    print('loss:', loss.item())\n",
        "\n",
        "    loss.backward()\n",
        "\n",
        "    optimizer.step()"
      ],
      "metadata": {
        "colab": {
          "base_uri": "https://localhost:8080/"
        },
        "id": "sxiK_WL9tFvb",
        "outputId": "b461155a-d337-4b04-bc83-ece0bdea571b"
      },
      "execution_count": 74,
      "outputs": [
        {
          "output_type": "stream",
          "name": "stdout",
          "text": [
            "loss: 1.0881630182266235\n",
            "loss: 1.0393922328948975\n",
            "loss: 1.0028115510940552\n",
            "loss: 1.0250868797302246\n",
            "loss: 1.0088638067245483\n",
            "loss: 0.9351975321769714\n",
            "loss: 0.8939588665962219\n",
            "loss: 0.9765418171882629\n",
            "loss: 0.9651517868041992\n"
          ]
        }
      ]
    },
    {
      "cell_type": "code",
      "source": [
        "y_label = torch.argmax(y, dim=1)\n",
        "\n",
        "y_label"
      ],
      "metadata": {
        "colab": {
          "base_uri": "https://localhost:8080/"
        },
        "id": "bNXE93ARv-Zn",
        "outputId": "78d1ed02-0618-46f5-8e89-26c9e0f37512"
      },
      "execution_count": 75,
      "outputs": [
        {
          "output_type": "execute_result",
          "data": {
            "text/plain": [
              "tensor([0, 1, 0, 1, 1, 1, 0, 1, 0, 0])"
            ]
          },
          "metadata": {},
          "execution_count": 75
        }
      ]
    },
    {
      "cell_type": "code",
      "source": [
        "t"
      ],
      "metadata": {
        "colab": {
          "base_uri": "https://localhost:8080/"
        },
        "id": "2NIQRkJrxrBo",
        "outputId": "02b4e988-13c0-4bb0-835e-8000abdcbdda"
      },
      "execution_count": 76,
      "outputs": [
        {
          "output_type": "execute_result",
          "data": {
            "text/plain": [
              "tensor([1, 1, 0, 2, 1, 2, 0, 2, 1, 1])"
            ]
          },
          "metadata": {},
          "execution_count": 76
        }
      ]
    },
    {
      "cell_type": "code",
      "source": [
        "y_label == t"
      ],
      "metadata": {
        "colab": {
          "base_uri": "https://localhost:8080/"
        },
        "id": "uewBg8BmxsHG",
        "outputId": "abaff035-e840-45be-f357-cdca74530866"
      },
      "execution_count": 77,
      "outputs": [
        {
          "output_type": "execute_result",
          "data": {
            "text/plain": [
              "tensor([False,  True,  True, False,  True, False,  True, False, False, False])"
            ]
          },
          "metadata": {},
          "execution_count": 77
        }
      ]
    },
    {
      "cell_type": "code",
      "source": [
        "(y_label == t).sum"
      ],
      "metadata": {
        "colab": {
          "base_uri": "https://localhost:8080/"
        },
        "id": "AxrVnonnxzV4",
        "outputId": "caf8da01-a6c0-4540-cbfa-f6cd71ba78e5"
      },
      "execution_count": 78,
      "outputs": [
        {
          "output_type": "execute_result",
          "data": {
            "text/plain": [
              "<function Tensor.sum>"
            ]
          },
          "metadata": {},
          "execution_count": 78
        }
      ]
    },
    {
      "cell_type": "code",
      "source": [
        "(y_label == t).sum() * 1.0"
      ],
      "metadata": {
        "colab": {
          "base_uri": "https://localhost:8080/"
        },
        "id": "yWHoNPOWyMfP",
        "outputId": "b90d6b4b-1a99-4084-e8b4-98381679429b"
      },
      "execution_count": 79,
      "outputs": [
        {
          "output_type": "execute_result",
          "data": {
            "text/plain": [
              "tensor(4.)"
            ]
          },
          "metadata": {},
          "execution_count": 79
        }
      ]
    },
    {
      "cell_type": "code",
      "source": [
        "acc = (y_label == t).sum() * 1.0 /len(t)\n",
        "acc"
      ],
      "metadata": {
        "colab": {
          "base_uri": "https://localhost:8080/"
        },
        "id": "DTVLHt2FylIv",
        "outputId": "2c9d9d4c-340e-4690-e2a5-01e9d5cf4f70"
      },
      "execution_count": 81,
      "outputs": [
        {
          "output_type": "execute_result",
          "data": {
            "text/plain": [
              "tensor(0.4000)"
            ]
          },
          "metadata": {},
          "execution_count": 81
        }
      ]
    },
    {
      "cell_type": "code",
      "source": [
        "torch.manual_seed(0)\n",
        "\n",
        "net = Net().to(device)\n",
        "\n",
        "optimizer = torch.optim.SGD(net.parameters(), lr=0.1)"
      ],
      "metadata": {
        "id": "QEmG7ZQpzP7I"
      },
      "execution_count": 82,
      "outputs": []
    },
    {
      "cell_type": "code",
      "source": [
        "for epoch in range(max_epoch):\n",
        "\n",
        "    for batch in train_loader:\n",
        "\n",
        "        x, t = batch\n",
        "\n",
        "        x = x.to(device)\n",
        "        t = t.to(device)\n",
        "\n",
        "        optimizer.zero_grad()\n",
        "\n",
        "        y = net(x)\n",
        "\n",
        "        loss = criterion(y, t)\n",
        "\n",
        "        # New：正解率の算出\n",
        "        y_label = torch.argmax(y, dim=1)\n",
        "        acc  = (y_label == t).sum() * 1.0 / len(t)\n",
        "        print('accuracy:', acc)\n",
        "\n",
        "        loss.backward()\n",
        "\n",
        "        optimizer.step()"
      ],
      "metadata": {
        "colab": {
          "base_uri": "https://localhost:8080/"
        },
        "id": "1xDKFdOu3_dp",
        "outputId": "8a96a0e0-8dee-423a-820c-34a18eb06cf1"
      },
      "execution_count": 83,
      "outputs": [
        {
          "output_type": "stream",
          "name": "stdout",
          "text": [
            "accuracy: tensor(0.6000)\n",
            "accuracy: tensor(0.8000)\n",
            "accuracy: tensor(0.6000)\n",
            "accuracy: tensor(0.6000)\n",
            "accuracy: tensor(0.6000)\n",
            "accuracy: tensor(0.5000)\n",
            "accuracy: tensor(0.4000)\n",
            "accuracy: tensor(0.2000)\n",
            "accuracy: tensor(0.4000)\n"
          ]
        }
      ]
    },
    {
      "cell_type": "code",
      "source": [
        "# 正解率の計算\n",
        "def calc_acc(data_loader):\n",
        "\n",
        "    with torch.no_grad():\n",
        "\n",
        "        accs = []  # 各バッチごとの結果格納用\n",
        "\n",
        "        for batch in data_loader:\n",
        "            x, t = batch\n",
        "            x = x.to(device)\n",
        "            t = t.to(device)\n",
        "            y = net(x)\n",
        "\n",
        "            y_label = torch.argmax(y, dim=1)\n",
        "            acc  = (y_label == t).sum() * 1.0 / len(t)\n",
        "            accs.append(acc)\n",
        "\n",
        "    # 全体の平均を算出\n",
        "    avg_acc = torch.tensor(accs).mean()\n",
        "\n",
        "    return avg_acc"
      ],
      "metadata": {
        "id": "BJlU9tWM4bpR"
      },
      "execution_count": 84,
      "outputs": []
    },
    {
      "cell_type": "code",
      "source": [
        "# 検証データで確認\n",
        "val_acc = calc_acc(val_loader)\n",
        "val_acc"
      ],
      "metadata": {
        "colab": {
          "base_uri": "https://localhost:8080/"
        },
        "id": "cmwManZq4i4U",
        "outputId": "f0cfeb83-6e64-4c2e-8f11-867792ebc2c5"
      },
      "execution_count": 85,
      "outputs": [
        {
          "output_type": "execute_result",
          "data": {
            "text/plain": [
              "tensor(0.6333)"
            ]
          },
          "metadata": {},
          "execution_count": 85
        }
      ]
    },
    {
      "cell_type": "code",
      "source": [
        "# テストデータで確認\n",
        "test_acc = calc_acc(test_loader)\n",
        "test_acc"
      ],
      "metadata": {
        "colab": {
          "base_uri": "https://localhost:8080/"
        },
        "id": "-DaD4I2k4l8W",
        "outputId": "719ceac1-b58d-43b6-8730-f7be685a04bd"
      },
      "execution_count": 86,
      "outputs": [
        {
          "output_type": "execute_result",
          "data": {
            "text/plain": [
              "tensor(0.5667)"
            ]
          },
          "metadata": {},
          "execution_count": 86
        }
      ]
    },
    {
      "cell_type": "code",
      "source": [],
      "metadata": {
        "id": "LXZ76Mn54pVn"
      },
      "execution_count": null,
      "outputs": []
    }
  ]
}